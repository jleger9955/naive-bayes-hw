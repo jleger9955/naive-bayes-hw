{
 "cells": [
  {
   "cell_type": "code",
   "execution_count": 1,
   "metadata": {},
   "outputs": [],
   "source": [
    "%load_ext autoreload\n",
    "%autoreload 2"
   ]
  },
  {
   "cell_type": "code",
   "execution_count": 2,
   "metadata": {},
   "outputs": [],
   "source": [
    "from src.bayescoin import BayesCoin"
   ]
  },
  {
   "cell_type": "code",
   "execution_count": 3,
   "metadata": {},
   "outputs": [],
   "source": [
    "bc = BayesCoin()"
   ]
  },
  {
   "cell_type": "code",
   "execution_count": 4,
   "metadata": {},
   "outputs": [
    {
     "data": {
      "text/plain": [
       "{0.3: 0.3333333333333333, 0.45: 0.3333333333333333, 0.75: 0.3333333333333333}"
      ]
     },
     "execution_count": 4,
     "metadata": {},
     "output_type": "execute_result"
    }
   ],
   "source": [
    "bc.data"
   ]
  },
  {
   "cell_type": "code",
   "execution_count": 5,
   "metadata": {},
   "outputs": [],
   "source": [
    "bc.choose_coin()"
   ]
  },
  {
   "cell_type": "code",
   "execution_count": 6,
   "metadata": {},
   "outputs": [
    {
     "data": {
      "text/plain": [
       "0.75"
      ]
     },
     "execution_count": 6,
     "metadata": {},
     "output_type": "execute_result"
    }
   ],
   "source": [
    "bc.coin"
   ]
  },
  {
   "cell_type": "code",
   "execution_count": 7,
   "metadata": {},
   "outputs": [
    {
     "data": {
      "text/plain": [
       "{0.3: 0.3333333333333333, 0.45: 0.3333333333333333, 0.75: 0.3333333333333333}"
      ]
     },
     "execution_count": 7,
     "metadata": {},
     "output_type": "execute_result"
    }
   ],
   "source": [
    "bc.data"
   ]
  },
  {
   "cell_type": "code",
   "execution_count": 8,
   "metadata": {},
   "outputs": [
    {
     "name": "stdout",
     "output_type": "stream",
     "text": [
      "before update: {0.3: 0.3333333333333333, 0.45: 0.3333333333333333, 0.75: 0.3333333333333333}\n",
      "coin: 0.75 flip: 1\n",
      "denominator: [0.09999999999999999, 0.15, 0.25]\n",
      "data: {0.3: 0.19999999999999998, 0.45: 0.3, 0.75: 0.5}\n",
      "sum of priors: 1.0\n",
      "sum of denominator: 0.5\n",
      "--------------------------------------------------\n",
      "before update: {0.3: 0.19999999999999998, 0.45: 0.3, 0.75: 0.5}\n",
      "coin: 0.75 flip: 1\n",
      "denominator: [0.05999999999999999, 0.135, 0.375]\n",
      "data: {0.3: 0.10526315789473681, 0.45: 0.23684210526315788, 0.75: 0.6578947368421052}\n",
      "sum of priors: 0.9999999999999999\n",
      "sum of denominator: 0.5700000000000001\n",
      "--------------------------------------------------\n",
      "before update: {0.3: 0.10526315789473681, 0.45: 0.23684210526315788, 0.75: 0.6578947368421052}\n",
      "coin: 0.75 flip: 1\n",
      "denominator: [0.03157894736842104, 0.10657894736842105, 0.49342105263157887]\n",
      "data: {0.3: 0.04999999999999998, 0.45: 0.16875, 0.75: 0.7812499999999999}\n",
      "sum of priors: 0.9999999999999999\n",
      "sum of denominator: 0.631578947368421\n",
      "--------------------------------------------------\n",
      "before update: {0.3: 0.04999999999999998, 0.45: 0.16875, 0.75: 0.7812499999999999}\n",
      "coin: 0.75 flip: 1\n",
      "denominator: [0.014999999999999994, 0.0759375, 0.5859374999999999]\n",
      "data: {0.3: 0.022160664819944595, 0.45: 0.11218836565096955, 0.75: 0.8656509695290858}\n",
      "sum of priors: 1.0\n",
      "sum of denominator: 0.6768749999999999\n",
      "--------------------------------------------------\n",
      "before update: {0.3: 0.022160664819944595, 0.45: 0.11218836565096955, 0.75: 0.8656509695290858}\n",
      "coin: 0.75 flip: 0\n",
      "denominator: [0.015512465373961216, 0.06170360110803326, 0.21641274238227146]\n",
      "data: {0.3: 0.05283018867924528, 0.45: 0.21014150943396234, 0.75: 0.7370283018867925}\n",
      "sum of priors: 1.0\n",
      "sum of denominator: 0.2936288088642659\n",
      "--------------------------------------------------\n",
      "before update: {0.3: 0.05283018867924528, 0.45: 0.21014150943396234, 0.75: 0.7370283018867925}\n",
      "coin: 0.75 flip: 0\n",
      "denominator: [0.03698113207547169, 0.1155778301886793, 0.18425707547169812]\n",
      "data: {0.3: 0.1097962327568097, 0.45: 0.34314823891884333, 0.75: 0.5470555283243469}\n",
      "sum of priors: 1.0\n",
      "sum of denominator: 0.3368160377358491\n",
      "--------------------------------------------------\n",
      "before update: {0.3: 0.1097962327568097, 0.45: 0.34314823891884333, 0.75: 0.5470555283243469}\n",
      "coin: 0.75 flip: 1\n",
      "denominator: [0.03293886982704291, 0.1544167075134795, 0.4102916462432602]\n",
      "data: {0.3: 0.05511423550087871, 0.45: 0.2583743409490335, 0.75: 0.6865114235500878}\n",
      "sum of priors: 1.0\n",
      "sum of denominator: 0.5976472235837826\n",
      "--------------------------------------------------\n",
      "before update: {0.3: 0.05511423550087871, 0.45: 0.2583743409490335, 0.75: 0.6865114235500878}\n",
      "coin: 0.75 flip: 1\n",
      "denominator: [0.016534270650263614, 0.11626845342706507, 0.5148835676625658]\n",
      "data: {0.3: 0.025528208426099656, 0.45: 0.17951353133432926, 0.75: 0.7949582602395712}\n",
      "sum of priors: 1.0\n",
      "sum of denominator: 0.6476862917398944\n",
      "--------------------------------------------------\n",
      "before update: {0.3: 0.025528208426099656, 0.45: 0.17951353133432926, 0.75: 0.7949582602395712}\n",
      "coin: 0.75 flip: 1\n",
      "denominator: [0.0076584625278298965, 0.08078108910044816, 0.5962186951796784]\n",
      "data: {0.3: 0.01118581798077437, 0.45: 0.11798746232455283, 0.75: 0.8708267196946727}\n",
      "sum of priors: 1.0\n",
      "sum of denominator: 0.6846582468079565\n",
      "--------------------------------------------------\n",
      "before update: {0.3: 0.01118581798077437, 0.45: 0.11798746232455283, 0.75: 0.8708267196946727}\n",
      "coin: 0.75 flip: 1\n",
      "denominator: [0.003355745394232311, 0.05309435804604878, 0.6531200397710045]\n",
      "data: {0.3: 0.004729265212661414, 0.45: 0.07482608809576011, 0.75: 0.9204446466915784}\n",
      "sum of priors: 1.0\n",
      "sum of denominator: 0.7095701432112856\n",
      "--------------------------------------------------\n"
     ]
    }
   ],
   "source": [
    "for i in range(10):\n",
    "    flip = bc.flip_coin()\n",
    "    bc.update_priors(flip)"
   ]
  },
  {
   "cell_type": "code",
   "execution_count": null,
   "metadata": {},
   "outputs": [],
   "source": []
  },
  {
   "cell_type": "code",
   "execution_count": null,
   "metadata": {},
   "outputs": [],
   "source": []
  },
  {
   "cell_type": "code",
   "execution_count": null,
   "metadata": {},
   "outputs": [],
   "source": []
  }
 ],
 "metadata": {
  "kernelspec": {
   "display_name": "Python 3",
   "language": "python",
   "name": "python3"
  },
  "language_info": {
   "codemirror_mode": {
    "name": "ipython",
    "version": 3
   },
   "file_extension": ".py",
   "mimetype": "text/x-python",
   "name": "python",
   "nbconvert_exporter": "python",
   "pygments_lexer": "ipython3",
   "version": "3.7.2"
  }
 },
 "nbformat": 4,
 "nbformat_minor": 2
}
